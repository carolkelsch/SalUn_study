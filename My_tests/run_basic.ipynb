{
 "cells": [
  {
   "cell_type": "code",
   "execution_count": 3,
   "metadata": {},
   "outputs": [
    {
     "name": "stdout",
     "output_type": "stream",
     "text": [
      "Requirement already satisfied: datasets==2.13.1 in c:\\users\\carol\\appdata\\local\\programs\\python\\python311\\lib\\site-packages (from -r ../Classification/requirements.txt (line 1)) (2.13.1)\n",
      "Requirement already satisfied: lmdb==1.4.1 in c:\\users\\carol\\appdata\\local\\programs\\python\\python311\\lib\\site-packages (from -r ../Classification/requirements.txt (line 2)) (1.4.1)\n",
      "Requirement already satisfied: matplotlib==3.7.1 in c:\\users\\carol\\appdata\\local\\programs\\python\\python311\\lib\\site-packages (from -r ../Classification/requirements.txt (line 3)) (3.7.1)\n",
      "Requirement already satisfied: numpy==1.25.0 in c:\\users\\carol\\appdata\\local\\programs\\python\\python311\\lib\\site-packages (from -r ../Classification/requirements.txt (line 4)) (1.25.0)\n",
      "Requirement already satisfied: Pillow==10.0.0 in c:\\users\\carol\\appdata\\local\\programs\\python\\python311\\lib\\site-packages (from -r ../Classification/requirements.txt (line 5)) (10.0.0)\n",
      "Requirement already satisfied: scikit_learn==1.3.0 in c:\\users\\carol\\appdata\\local\\programs\\python\\python311\\lib\\site-packages (from -r ../Classification/requirements.txt (line 6)) (1.3.0)\n",
      "Requirement already satisfied: six==1.16.0 in c:\\users\\carol\\appdata\\local\\programs\\python\\python311\\lib\\site-packages (from -r ../Classification/requirements.txt (line 7)) (1.16.0)\n",
      "Requirement already satisfied: torch==2.0.1 in c:\\users\\carol\\appdata\\local\\programs\\python\\python311\\lib\\site-packages (from -r ../Classification/requirements.txt (line 8)) (2.0.1)\n",
      "Requirement already satisfied: torchvision==0.15.2 in c:\\users\\carol\\appdata\\local\\programs\\python\\python311\\lib\\site-packages (from -r ../Classification/requirements.txt (line 9)) (0.15.2)\n",
      "Requirement already satisfied: tqdm==4.65.0 in c:\\users\\carol\\appdata\\local\\programs\\python\\python311\\lib\\site-packages (from -r ../Classification/requirements.txt (line 10)) (4.65.0)\n",
      "Requirement already satisfied: pyarrow>=8.0.0 in c:\\users\\carol\\appdata\\local\\programs\\python\\python311\\lib\\site-packages (from datasets==2.13.1->-r ../Classification/requirements.txt (line 1)) (19.0.1)\n",
      "Requirement already satisfied: dill<0.3.7,>=0.3.0 in c:\\users\\carol\\appdata\\local\\programs\\python\\python311\\lib\\site-packages (from datasets==2.13.1->-r ../Classification/requirements.txt (line 1)) (0.3.6)\n",
      "Requirement already satisfied: pandas in c:\\users\\carol\\appdata\\local\\programs\\python\\python311\\lib\\site-packages (from datasets==2.13.1->-r ../Classification/requirements.txt (line 1)) (2.0.3)\n",
      "Requirement already satisfied: requests>=2.19.0 in c:\\users\\carol\\appdata\\local\\programs\\python\\python311\\lib\\site-packages (from datasets==2.13.1->-r ../Classification/requirements.txt (line 1)) (2.31.0)\n",
      "Requirement already satisfied: xxhash in c:\\users\\carol\\appdata\\local\\programs\\python\\python311\\lib\\site-packages (from datasets==2.13.1->-r ../Classification/requirements.txt (line 1)) (3.5.0)\n",
      "Requirement already satisfied: multiprocess in c:\\users\\carol\\appdata\\local\\programs\\python\\python311\\lib\\site-packages (from datasets==2.13.1->-r ../Classification/requirements.txt (line 1)) (0.70.14)\n",
      "Requirement already satisfied: fsspec>=2021.11.1 in c:\\users\\carol\\appdata\\local\\programs\\python\\python311\\lib\\site-packages (from fsspec[http]>=2021.11.1->datasets==2.13.1->-r ../Classification/requirements.txt (line 1)) (2024.9.0)\n",
      "Requirement already satisfied: aiohttp in c:\\users\\carol\\appdata\\local\\programs\\python\\python311\\lib\\site-packages (from datasets==2.13.1->-r ../Classification/requirements.txt (line 1)) (3.11.13)\n",
      "Requirement already satisfied: huggingface-hub<1.0.0,>=0.11.0 in c:\\users\\carol\\appdata\\local\\programs\\python\\python311\\lib\\site-packages (from datasets==2.13.1->-r ../Classification/requirements.txt (line 1)) (0.29.1)\n",
      "Requirement already satisfied: packaging in c:\\users\\carol\\appdata\\local\\programs\\python\\python311\\lib\\site-packages (from datasets==2.13.1->-r ../Classification/requirements.txt (line 1)) (22.0)\n",
      "Requirement already satisfied: pyyaml>=5.1 in c:\\users\\carol\\appdata\\roaming\\python\\python311\\site-packages (from datasets==2.13.1->-r ../Classification/requirements.txt (line 1)) (6.0.2)\n",
      "Requirement already satisfied: contourpy>=1.0.1 in c:\\users\\carol\\appdata\\local\\programs\\python\\python311\\lib\\site-packages (from matplotlib==3.7.1->-r ../Classification/requirements.txt (line 3)) (1.0.6)\n",
      "Requirement already satisfied: cycler>=0.10 in c:\\users\\carol\\appdata\\local\\programs\\python\\python311\\lib\\site-packages (from matplotlib==3.7.1->-r ../Classification/requirements.txt (line 3)) (0.11.0)\n",
      "Requirement already satisfied: fonttools>=4.22.0 in c:\\users\\carol\\appdata\\local\\programs\\python\\python311\\lib\\site-packages (from matplotlib==3.7.1->-r ../Classification/requirements.txt (line 3)) (4.38.0)\n",
      "Requirement already satisfied: kiwisolver>=1.0.1 in c:\\users\\carol\\appdata\\local\\programs\\python\\python311\\lib\\site-packages (from matplotlib==3.7.1->-r ../Classification/requirements.txt (line 3)) (1.4.4)\n",
      "Requirement already satisfied: pyparsing>=2.3.1 in c:\\users\\carol\\appdata\\local\\programs\\python\\python311\\lib\\site-packages (from matplotlib==3.7.1->-r ../Classification/requirements.txt (line 3)) (3.0.9)\n",
      "Requirement already satisfied: python-dateutil>=2.7 in c:\\users\\carol\\appdata\\local\\programs\\python\\python311\\lib\\site-packages (from matplotlib==3.7.1->-r ../Classification/requirements.txt (line 3)) (2.8.2)\n",
      "Requirement already satisfied: scipy>=1.5.0 in c:\\users\\carol\\appdata\\local\\programs\\python\\python311\\lib\\site-packages (from scikit_learn==1.3.0->-r ../Classification/requirements.txt (line 6)) (1.10.1)\n",
      "Requirement already satisfied: joblib>=1.1.1 in c:\\users\\carol\\appdata\\local\\programs\\python\\python311\\lib\\site-packages (from scikit_learn==1.3.0->-r ../Classification/requirements.txt (line 6)) (1.3.2)\n",
      "Requirement already satisfied: threadpoolctl>=2.0.0 in c:\\users\\carol\\appdata\\local\\programs\\python\\python311\\lib\\site-packages (from scikit_learn==1.3.0->-r ../Classification/requirements.txt (line 6)) (3.2.0)\n",
      "Requirement already satisfied: filelock in c:\\users\\carol\\appdata\\local\\programs\\python\\python311\\lib\\site-packages (from torch==2.0.1->-r ../Classification/requirements.txt (line 8)) (3.16.1)\n",
      "Requirement already satisfied: typing-extensions in c:\\users\\carol\\appdata\\roaming\\python\\python311\\site-packages (from torch==2.0.1->-r ../Classification/requirements.txt (line 8)) (4.12.2)\n",
      "Requirement already satisfied: sympy in c:\\users\\carol\\appdata\\local\\programs\\python\\python311\\lib\\site-packages (from torch==2.0.1->-r ../Classification/requirements.txt (line 8)) (1.13.1)\n",
      "Requirement already satisfied: networkx in c:\\users\\carol\\appdata\\local\\programs\\python\\python311\\lib\\site-packages (from torch==2.0.1->-r ../Classification/requirements.txt (line 8)) (3.3)\n",
      "Requirement already satisfied: jinja2 in c:\\users\\carol\\appdata\\local\\programs\\python\\python311\\lib\\site-packages (from torch==2.0.1->-r ../Classification/requirements.txt (line 8)) (3.1.4)\n",
      "Requirement already satisfied: colorama in c:\\users\\carol\\appdata\\roaming\\python\\python311\\site-packages (from tqdm==4.65.0->-r ../Classification/requirements.txt (line 10)) (0.4.6)\n",
      "Requirement already satisfied: aiohappyeyeballs>=2.3.0 in c:\\users\\carol\\appdata\\local\\programs\\python\\python311\\lib\\site-packages (from aiohttp->datasets==2.13.1->-r ../Classification/requirements.txt (line 1)) (2.4.6)\n",
      "Requirement already satisfied: aiosignal>=1.1.2 in c:\\users\\carol\\appdata\\local\\programs\\python\\python311\\lib\\site-packages (from aiohttp->datasets==2.13.1->-r ../Classification/requirements.txt (line 1)) (1.3.2)\n",
      "Requirement already satisfied: attrs>=17.3.0 in c:\\users\\carol\\appdata\\local\\programs\\python\\python311\\lib\\site-packages (from aiohttp->datasets==2.13.1->-r ../Classification/requirements.txt (line 1)) (24.2.0)\n",
      "Requirement already satisfied: frozenlist>=1.1.1 in c:\\users\\carol\\appdata\\local\\programs\\python\\python311\\lib\\site-packages (from aiohttp->datasets==2.13.1->-r ../Classification/requirements.txt (line 1)) (1.5.0)\n",
      "Requirement already satisfied: multidict<7.0,>=4.5 in c:\\users\\carol\\appdata\\local\\programs\\python\\python311\\lib\\site-packages (from aiohttp->datasets==2.13.1->-r ../Classification/requirements.txt (line 1)) (6.1.0)\n",
      "Requirement already satisfied: propcache>=0.2.0 in c:\\users\\carol\\appdata\\local\\programs\\python\\python311\\lib\\site-packages (from aiohttp->datasets==2.13.1->-r ../Classification/requirements.txt (line 1)) (0.3.0)\n",
      "Requirement already satisfied: yarl<2.0,>=1.17.0 in c:\\users\\carol\\appdata\\local\\programs\\python\\python311\\lib\\site-packages (from aiohttp->datasets==2.13.1->-r ../Classification/requirements.txt (line 1)) (1.18.3)\n",
      "Requirement already satisfied: charset-normalizer<4,>=2 in c:\\users\\carol\\appdata\\roaming\\python\\python311\\site-packages (from requests>=2.19.0->datasets==2.13.1->-r ../Classification/requirements.txt (line 1)) (3.4.0)\n",
      "Requirement already satisfied: idna<4,>=2.5 in c:\\users\\carol\\appdata\\roaming\\python\\python311\\site-packages (from requests>=2.19.0->datasets==2.13.1->-r ../Classification/requirements.txt (line 1)) (3.10)\n",
      "Requirement already satisfied: urllib3<3,>=1.21.1 in c:\\users\\carol\\appdata\\roaming\\python\\python311\\site-packages (from requests>=2.19.0->datasets==2.13.1->-r ../Classification/requirements.txt (line 1)) (2.2.3)\n",
      "Requirement already satisfied: certifi>=2017.4.17 in c:\\users\\carol\\appdata\\roaming\\python\\python311\\site-packages (from requests>=2.19.0->datasets==2.13.1->-r ../Classification/requirements.txt (line 1)) (2024.8.30)\n",
      "Requirement already satisfied: MarkupSafe>=2.0 in c:\\users\\carol\\appdata\\local\\programs\\python\\python311\\lib\\site-packages (from jinja2->torch==2.0.1->-r ../Classification/requirements.txt (line 8)) (2.1.5)\n",
      "Requirement already satisfied: pytz>=2020.1 in c:\\users\\carol\\appdata\\local\\programs\\python\\python311\\lib\\site-packages (from pandas->datasets==2.13.1->-r ../Classification/requirements.txt (line 1)) (2022.7)\n",
      "Requirement already satisfied: tzdata>=2022.1 in c:\\users\\carol\\appdata\\local\\programs\\python\\python311\\lib\\site-packages (from pandas->datasets==2.13.1->-r ../Classification/requirements.txt (line 1)) (2024.2)\n",
      "Requirement already satisfied: mpmath<1.4,>=1.1.0 in c:\\users\\carol\\appdata\\local\\programs\\python\\python311\\lib\\site-packages (from sympy->torch==2.0.1->-r ../Classification/requirements.txt (line 8)) (1.3.0)\n"
     ]
    }
   ],
   "source": [
    "!pip install -r ../Classification/requirements.txt"
   ]
  },
  {
   "cell_type": "code",
   "execution_count": null,
   "metadata": {},
   "outputs": [],
   "source": [
    "!python ../Classification/main_train.py --arch resnet18 --dataset cifar10 --lr 0.1 --epochs 20 --save_dir models/"
   ]
  },
  {
   "cell_type": "code",
   "execution_count": 21,
   "metadata": {},
   "outputs": [
    {
     "data": {
      "text/plain": [
       "<module 'ResNet' from 'c:\\\\Users\\\\carol\\\\Documents\\\\IPCV-MASTER\\\\TRDP\\\\SalUn_study\\\\Classification\\\\models\\\\ResNet.py'>"
      ]
     },
     "execution_count": 21,
     "metadata": {},
     "output_type": "execute_result"
    }
   ],
   "source": [
    "import sys\n",
    "import os\n",
    "sys.modules.pop('Integration_SalUn', None)  # Replace with your module name\n",
    "sys.modules.pop('ResNet', None)  # Replace with your module name"
   ]
  },
  {
   "cell_type": "code",
   "execution_count": null,
   "metadata": {},
   "outputs": [
    {
     "name": "stdout",
     "output_type": "stream",
     "text": [
      "c:\\Users\\carol\\Documents\\IPCV-MASTER\\TRDP\\SalUn_study\\Classification\\models\n"
     ]
    }
   ],
   "source": [
    "#!python generate_mask.py --save_dir 'saliency_map/' --model_path 'models/0model_SA_best.pth.tar' --class_to_replace 3 --unlearn_epochs 1\n",
    "path = os.getcwd().split('\\\\')\n",
    "current_path = ('\\\\').join(path[:-1])\n",
    "sys.path.append(current_path + \"\\\\Classification\\\\models\")\n",
    "print(current_path+\"\\\\Classification\\\\models\")\n"
   ]
  },
  {
   "cell_type": "code",
   "execution_count": 22,
   "metadata": {},
   "outputs": [
    {
     "name": "stdout",
     "output_type": "stream",
     "text": [
      "The normalize layer is contained in the network\n",
      "entered function...\n"
     ]
    },
    {
     "ename": "AssertionError",
     "evalue": "Torch not compiled with CUDA enabled",
     "output_type": "error",
     "traceback": [
      "\u001b[1;31m---------------------------------------------------------------------------\u001b[0m",
      "\u001b[1;31mAssertionError\u001b[0m                            Traceback (most recent call last)",
      "Cell \u001b[1;32mIn[22], line 6\u001b[0m\n\u001b[0;32m      2\u001b[0m \u001b[38;5;28;01mfrom\u001b[39;00m \u001b[38;5;21;01mIntegration_SalUn\u001b[39;00m \u001b[38;5;28;01mimport\u001b[39;00m generate_fmask\n\u001b[0;32m      4\u001b[0m model \u001b[38;5;241m=\u001b[39m resnet18(num_classes\u001b[38;5;241m=\u001b[39m\u001b[38;5;241m10\u001b[39m)\n\u001b[1;32m----> 6\u001b[0m \u001b[43mgenerate_fmask\u001b[49m\u001b[43m(\u001b[49m\u001b[43mmodel\u001b[49m\u001b[43m,\u001b[49m\u001b[43m \u001b[49m\u001b[38;5;241;43m256\u001b[39;49m\u001b[43m,\u001b[49m\u001b[43m \u001b[49m\u001b[43msave_dir\u001b[49m\u001b[38;5;241;43m=\u001b[39;49m\u001b[38;5;124;43m'\u001b[39;49m\u001b[38;5;124;43msaliency_map/\u001b[39;49m\u001b[38;5;124;43m'\u001b[39;49m\u001b[43m,\u001b[49m\u001b[43m \u001b[49m\u001b[43munlearn_lr\u001b[49m\u001b[38;5;241;43m=\u001b[39;49m\u001b[38;5;241;43m0.01\u001b[39;49m\u001b[43m,\u001b[49m\u001b[43m \u001b[49m\u001b[43mmomentum\u001b[49m\u001b[38;5;241;43m=\u001b[39;49m\u001b[38;5;241;43m0.9\u001b[39;49m\u001b[43m,\u001b[49m\u001b[43m \u001b[49m\u001b[43mweight_decay\u001b[49m\u001b[38;5;241;43m=\u001b[39;49m\u001b[38;5;241;43m5e-4\u001b[39;49m\u001b[43m,\u001b[49m\u001b[43m \u001b[49m\u001b[43mmodel_path\u001b[49m\u001b[38;5;241;43m=\u001b[39;49m\u001b[38;5;124;43m'\u001b[39;49m\u001b[38;5;124;43mmodels/0model_SA_best.pth.tar\u001b[39;49m\u001b[38;5;124;43m'\u001b[39;49m\u001b[43m)\u001b[49m\n",
      "File \u001b[1;32mc:\\Users\\carol\\Documents\\IPCV-MASTER\\TRDP\\SalUn_study\\My_tests\\Integration_SalUn.py:104\u001b[0m, in \u001b[0;36mgenerate_fmask\u001b[1;34m(model, batch_size, **kwargs)\u001b[0m\n\u001b[0;32m    100\u001b[0m     device \u001b[38;5;241m=\u001b[39m torch\u001b[38;5;241m.\u001b[39mdevice(\u001b[38;5;124m\"\u001b[39m\u001b[38;5;124mcpu\u001b[39m\u001b[38;5;124m\"\u001b[39m)\n\u001b[0;32m    102\u001b[0m os\u001b[38;5;241m.\u001b[39mmakedirs(kwargs[\u001b[38;5;124m'\u001b[39m\u001b[38;5;124msave_dir\u001b[39m\u001b[38;5;124m'\u001b[39m], exist_ok\u001b[38;5;241m=\u001b[39m\u001b[38;5;28;01mTrue\u001b[39;00m)\n\u001b[1;32m--> 104\u001b[0m \u001b[43mmodel\u001b[49m\u001b[38;5;241;43m.\u001b[39;49m\u001b[43mcuda\u001b[49m\u001b[43m(\u001b[49m\u001b[43m)\u001b[49m\n\u001b[0;32m    106\u001b[0m \u001b[38;5;250m\u001b[39m\u001b[38;5;124;03m'''\u001b[39;00m\n\u001b[0;32m    107\u001b[0m \u001b[38;5;124;03mif args.seed:\u001b[39;00m\n\u001b[0;32m    108\u001b[0m \u001b[38;5;124;03m    setup_seed(args.seed)\u001b[39;00m\n\u001b[0;32m    109\u001b[0m \u001b[38;5;124;03m    seed = args.seed\u001b[39;00m\n\u001b[0;32m    110\u001b[0m \u001b[38;5;124;03melse:\u001b[39;00m\n\u001b[0;32m    111\u001b[0m \u001b[38;5;124;03m'''\u001b[39;00m\n\u001b[0;32m    112\u001b[0m setup_seed(\u001b[38;5;241m1\u001b[39m)\n",
      "File \u001b[1;32mc:\\Users\\carol\\AppData\\Local\\Programs\\Python\\Python311\\Lib\\site-packages\\torch\\nn\\modules\\module.py:905\u001b[0m, in \u001b[0;36mModule.cuda\u001b[1;34m(self, device)\u001b[0m\n\u001b[0;32m    888\u001b[0m \u001b[38;5;28;01mdef\u001b[39;00m \u001b[38;5;21mcuda\u001b[39m(\u001b[38;5;28mself\u001b[39m: T, device: Optional[Union[\u001b[38;5;28mint\u001b[39m, device]] \u001b[38;5;241m=\u001b[39m \u001b[38;5;28;01mNone\u001b[39;00m) \u001b[38;5;241m-\u001b[39m\u001b[38;5;241m>\u001b[39m T:\n\u001b[0;32m    889\u001b[0m \u001b[38;5;250m    \u001b[39m\u001b[38;5;124mr\u001b[39m\u001b[38;5;124;03m\"\"\"Moves all model parameters and buffers to the GPU.\u001b[39;00m\n\u001b[0;32m    890\u001b[0m \n\u001b[0;32m    891\u001b[0m \u001b[38;5;124;03m    This also makes associated parameters and buffers different objects. So\u001b[39;00m\n\u001b[1;32m   (...)\u001b[0m\n\u001b[0;32m    903\u001b[0m \u001b[38;5;124;03m        Module: self\u001b[39;00m\n\u001b[0;32m    904\u001b[0m \u001b[38;5;124;03m    \"\"\"\u001b[39;00m\n\u001b[1;32m--> 905\u001b[0m     \u001b[38;5;28;01mreturn\u001b[39;00m \u001b[38;5;28;43mself\u001b[39;49m\u001b[38;5;241;43m.\u001b[39;49m\u001b[43m_apply\u001b[49m\u001b[43m(\u001b[49m\u001b[38;5;28;43;01mlambda\u001b[39;49;00m\u001b[43m \u001b[49m\u001b[43mt\u001b[49m\u001b[43m:\u001b[49m\u001b[43m \u001b[49m\u001b[43mt\u001b[49m\u001b[38;5;241;43m.\u001b[39;49m\u001b[43mcuda\u001b[49m\u001b[43m(\u001b[49m\u001b[43mdevice\u001b[49m\u001b[43m)\u001b[49m\u001b[43m)\u001b[49m\n",
      "File \u001b[1;32mc:\\Users\\carol\\AppData\\Local\\Programs\\Python\\Python311\\Lib\\site-packages\\torch\\nn\\modules\\module.py:797\u001b[0m, in \u001b[0;36mModule._apply\u001b[1;34m(self, fn)\u001b[0m\n\u001b[0;32m    795\u001b[0m \u001b[38;5;28;01mdef\u001b[39;00m \u001b[38;5;21m_apply\u001b[39m(\u001b[38;5;28mself\u001b[39m, fn):\n\u001b[0;32m    796\u001b[0m     \u001b[38;5;28;01mfor\u001b[39;00m module \u001b[38;5;129;01min\u001b[39;00m \u001b[38;5;28mself\u001b[39m\u001b[38;5;241m.\u001b[39mchildren():\n\u001b[1;32m--> 797\u001b[0m         \u001b[43mmodule\u001b[49m\u001b[38;5;241;43m.\u001b[39;49m\u001b[43m_apply\u001b[49m\u001b[43m(\u001b[49m\u001b[43mfn\u001b[49m\u001b[43m)\u001b[49m\n\u001b[0;32m    799\u001b[0m     \u001b[38;5;28;01mdef\u001b[39;00m \u001b[38;5;21mcompute_should_use_set_data\u001b[39m(tensor, tensor_applied):\n\u001b[0;32m    800\u001b[0m         \u001b[38;5;28;01mif\u001b[39;00m torch\u001b[38;5;241m.\u001b[39m_has_compatible_shallow_copy_type(tensor, tensor_applied):\n\u001b[0;32m    801\u001b[0m             \u001b[38;5;66;03m# If the new tensor has compatible tensor type as the existing tensor,\u001b[39;00m\n\u001b[0;32m    802\u001b[0m             \u001b[38;5;66;03m# the current behavior is to change the tensor in-place using `.data =`,\u001b[39;00m\n\u001b[1;32m   (...)\u001b[0m\n\u001b[0;32m    807\u001b[0m             \u001b[38;5;66;03m# global flag to let the user control whether they want the future\u001b[39;00m\n\u001b[0;32m    808\u001b[0m             \u001b[38;5;66;03m# behavior of overwriting the existing tensor or not.\u001b[39;00m\n",
      "File \u001b[1;32mc:\\Users\\carol\\AppData\\Local\\Programs\\Python\\Python311\\Lib\\site-packages\\torch\\nn\\modules\\module.py:844\u001b[0m, in \u001b[0;36mModule._apply\u001b[1;34m(self, fn)\u001b[0m\n\u001b[0;32m    842\u001b[0m \u001b[38;5;28;01mfor\u001b[39;00m key, buf \u001b[38;5;129;01min\u001b[39;00m \u001b[38;5;28mself\u001b[39m\u001b[38;5;241m.\u001b[39m_buffers\u001b[38;5;241m.\u001b[39mitems():\n\u001b[0;32m    843\u001b[0m     \u001b[38;5;28;01mif\u001b[39;00m buf \u001b[38;5;129;01mis\u001b[39;00m \u001b[38;5;129;01mnot\u001b[39;00m \u001b[38;5;28;01mNone\u001b[39;00m:\n\u001b[1;32m--> 844\u001b[0m         \u001b[38;5;28mself\u001b[39m\u001b[38;5;241m.\u001b[39m_buffers[key] \u001b[38;5;241m=\u001b[39m \u001b[43mfn\u001b[49m\u001b[43m(\u001b[49m\u001b[43mbuf\u001b[49m\u001b[43m)\u001b[49m\n\u001b[0;32m    846\u001b[0m \u001b[38;5;28;01mreturn\u001b[39;00m \u001b[38;5;28mself\u001b[39m\n",
      "File \u001b[1;32mc:\\Users\\carol\\AppData\\Local\\Programs\\Python\\Python311\\Lib\\site-packages\\torch\\nn\\modules\\module.py:905\u001b[0m, in \u001b[0;36mModule.cuda.<locals>.<lambda>\u001b[1;34m(t)\u001b[0m\n\u001b[0;32m    888\u001b[0m \u001b[38;5;28;01mdef\u001b[39;00m \u001b[38;5;21mcuda\u001b[39m(\u001b[38;5;28mself\u001b[39m: T, device: Optional[Union[\u001b[38;5;28mint\u001b[39m, device]] \u001b[38;5;241m=\u001b[39m \u001b[38;5;28;01mNone\u001b[39;00m) \u001b[38;5;241m-\u001b[39m\u001b[38;5;241m>\u001b[39m T:\n\u001b[0;32m    889\u001b[0m \u001b[38;5;250m    \u001b[39m\u001b[38;5;124mr\u001b[39m\u001b[38;5;124;03m\"\"\"Moves all model parameters and buffers to the GPU.\u001b[39;00m\n\u001b[0;32m    890\u001b[0m \n\u001b[0;32m    891\u001b[0m \u001b[38;5;124;03m    This also makes associated parameters and buffers different objects. So\u001b[39;00m\n\u001b[1;32m   (...)\u001b[0m\n\u001b[0;32m    903\u001b[0m \u001b[38;5;124;03m        Module: self\u001b[39;00m\n\u001b[0;32m    904\u001b[0m \u001b[38;5;124;03m    \"\"\"\u001b[39;00m\n\u001b[1;32m--> 905\u001b[0m     \u001b[38;5;28;01mreturn\u001b[39;00m \u001b[38;5;28mself\u001b[39m\u001b[38;5;241m.\u001b[39m_apply(\u001b[38;5;28;01mlambda\u001b[39;00m t: \u001b[43mt\u001b[49m\u001b[38;5;241;43m.\u001b[39;49m\u001b[43mcuda\u001b[49m\u001b[43m(\u001b[49m\u001b[43mdevice\u001b[49m\u001b[43m)\u001b[49m)\n",
      "File \u001b[1;32mc:\\Users\\carol\\AppData\\Local\\Programs\\Python\\Python311\\Lib\\site-packages\\torch\\cuda\\__init__.py:239\u001b[0m, in \u001b[0;36m_lazy_init\u001b[1;34m()\u001b[0m\n\u001b[0;32m    235\u001b[0m     \u001b[38;5;28;01mraise\u001b[39;00m \u001b[38;5;167;01mRuntimeError\u001b[39;00m(\n\u001b[0;32m    236\u001b[0m         \u001b[38;5;124m\"\u001b[39m\u001b[38;5;124mCannot re-initialize CUDA in forked subprocess. To use CUDA with \u001b[39m\u001b[38;5;124m\"\u001b[39m\n\u001b[0;32m    237\u001b[0m         \u001b[38;5;124m\"\u001b[39m\u001b[38;5;124mmultiprocessing, you must use the \u001b[39m\u001b[38;5;124m'\u001b[39m\u001b[38;5;124mspawn\u001b[39m\u001b[38;5;124m'\u001b[39m\u001b[38;5;124m start method\u001b[39m\u001b[38;5;124m\"\u001b[39m)\n\u001b[0;32m    238\u001b[0m \u001b[38;5;28;01mif\u001b[39;00m \u001b[38;5;129;01mnot\u001b[39;00m \u001b[38;5;28mhasattr\u001b[39m(torch\u001b[38;5;241m.\u001b[39m_C, \u001b[38;5;124m'\u001b[39m\u001b[38;5;124m_cuda_getDeviceCount\u001b[39m\u001b[38;5;124m'\u001b[39m):\n\u001b[1;32m--> 239\u001b[0m     \u001b[38;5;28;01mraise\u001b[39;00m \u001b[38;5;167;01mAssertionError\u001b[39;00m(\u001b[38;5;124m\"\u001b[39m\u001b[38;5;124mTorch not compiled with CUDA enabled\u001b[39m\u001b[38;5;124m\"\u001b[39m)\n\u001b[0;32m    240\u001b[0m \u001b[38;5;28;01mif\u001b[39;00m _cudart \u001b[38;5;129;01mis\u001b[39;00m \u001b[38;5;28;01mNone\u001b[39;00m:\n\u001b[0;32m    241\u001b[0m     \u001b[38;5;28;01mraise\u001b[39;00m \u001b[38;5;167;01mAssertionError\u001b[39;00m(\n\u001b[0;32m    242\u001b[0m         \u001b[38;5;124m\"\u001b[39m\u001b[38;5;124mlibcudart functions unavailable. It looks like you have a broken build?\u001b[39m\u001b[38;5;124m\"\u001b[39m)\n",
      "\u001b[1;31mAssertionError\u001b[0m: Torch not compiled with CUDA enabled"
     ]
    }
   ],
   "source": [
    "from ResNet import *\n",
    "from Integration_SalUn import generate_fmask\n",
    "\n",
    "model = resnet18(num_classes=10)\n",
    "\n",
    "generate_fmask(model, 256, save_dir='saliency_map/', unlearn_lr=0.01, momentum=0.9, weight_decay=5e-4, model_path='models/0model_SA_best.pth.tar')"
   ]
  },
  {
   "cell_type": "code",
   "execution_count": null,
   "metadata": {},
   "outputs": [],
   "source": [
    "!python ../Classification/main_random.py --unlearn RL --unlearn_epochs 10 --unlearn_lr 0.013 --class_to_replace 3 --model_path 'models/0model_SA_best.pth.tar' --save_dir 'unlearned/' --mask_path saliency_map/with_0.5.pt"
   ]
  }
 ],
 "metadata": {
  "kernelspec": {
   "display_name": "Python 3",
   "language": "python",
   "name": "python3"
  },
  "language_info": {
   "codemirror_mode": {
    "name": "ipython",
    "version": 3
   },
   "file_extension": ".py",
   "mimetype": "text/x-python",
   "name": "python",
   "nbconvert_exporter": "python",
   "pygments_lexer": "ipython3",
   "version": "3.11.4"
  }
 },
 "nbformat": 4,
 "nbformat_minor": 2
}
