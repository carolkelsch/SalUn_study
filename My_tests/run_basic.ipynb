{
 "cells": [
  {
   "cell_type": "code",
   "execution_count": 3,
   "metadata": {},
   "outputs": [],
   "source": [
    "!cd ../Classification/"
   ]
  },
  {
   "cell_type": "code",
   "execution_count": 5,
   "metadata": {},
   "outputs": [
    {
     "name": "stdout",
     "output_type": "stream",
     "text": [
      "Requirement already satisfied: datasets==2.13.1 in c:\\users\\carol\\appdata\\local\\programs\\python\\python311\\lib\\site-packages (from -r requirements.txt (line 1)) (2.13.1)\n",
      "Requirement already satisfied: lmdb==1.4.1 in c:\\users\\carol\\appdata\\local\\programs\\python\\python311\\lib\\site-packages (from -r requirements.txt (line 2)) (1.4.1)\n",
      "Collecting matplotlib==3.7.1 (from -r requirements.txt (line 3))\n",
      "  Using cached matplotlib-3.7.1-cp311-cp311-win_amd64.whl.metadata (5.8 kB)\n",
      "Collecting numpy==1.25.0 (from -r requirements.txt (line 4))\n",
      "  Using cached numpy-1.25.0-cp311-cp311-win_amd64.whl.metadata (5.7 kB)\n",
      "Requirement already satisfied: Pillow==10.0.0 in c:\\users\\carol\\appdata\\local\\programs\\python\\python311\\lib\\site-packages (from -r requirements.txt (line 5)) (10.0.0)\n",
      "Requirement already satisfied: scikit_learn==1.3.0 in c:\\users\\carol\\appdata\\local\\programs\\python\\python311\\lib\\site-packages (from -r requirements.txt (line 6)) (1.3.0)\n",
      "Requirement already satisfied: six==1.16.0 in c:\\users\\carol\\appdata\\local\\programs\\python\\python311\\lib\\site-packages (from -r requirements.txt (line 7)) (1.16.0)\n",
      "Collecting torch==2.0.1 (from -r requirements.txt (line 8))\n",
      "  Using cached torch-2.0.1-cp311-cp311-win_amd64.whl.metadata (24 kB)\n",
      "Collecting torchvision==0.15.2 (from -r requirements.txt (line 9))\n",
      "  Using cached torchvision-0.15.2-cp311-cp311-win_amd64.whl.metadata (11 kB)\n",
      "Collecting tqdm==4.65.0 (from -r requirements.txt (line 10))\n",
      "  Using cached tqdm-4.65.0-py3-none-any.whl.metadata (56 kB)\n",
      "Requirement already satisfied: pyarrow>=8.0.0 in c:\\users\\carol\\appdata\\local\\programs\\python\\python311\\lib\\site-packages (from datasets==2.13.1->-r requirements.txt (line 1)) (19.0.1)\n",
      "Requirement already satisfied: dill<0.3.7,>=0.3.0 in c:\\users\\carol\\appdata\\local\\programs\\python\\python311\\lib\\site-packages (from datasets==2.13.1->-r requirements.txt (line 1)) (0.3.6)\n",
      "Requirement already satisfied: pandas in c:\\users\\carol\\appdata\\local\\programs\\python\\python311\\lib\\site-packages (from datasets==2.13.1->-r requirements.txt (line 1)) (2.0.3)\n",
      "Requirement already satisfied: requests>=2.19.0 in c:\\users\\carol\\appdata\\local\\programs\\python\\python311\\lib\\site-packages (from datasets==2.13.1->-r requirements.txt (line 1)) (2.31.0)\n",
      "Requirement already satisfied: xxhash in c:\\users\\carol\\appdata\\local\\programs\\python\\python311\\lib\\site-packages (from datasets==2.13.1->-r requirements.txt (line 1)) (3.5.0)\n",
      "Requirement already satisfied: multiprocess in c:\\users\\carol\\appdata\\local\\programs\\python\\python311\\lib\\site-packages (from datasets==2.13.1->-r requirements.txt (line 1)) (0.70.14)\n",
      "Requirement already satisfied: fsspec>=2021.11.1 in c:\\users\\carol\\appdata\\local\\programs\\python\\python311\\lib\\site-packages (from fsspec[http]>=2021.11.1->datasets==2.13.1->-r requirements.txt (line 1)) (2024.9.0)\n",
      "Requirement already satisfied: aiohttp in c:\\users\\carol\\appdata\\local\\programs\\python\\python311\\lib\\site-packages (from datasets==2.13.1->-r requirements.txt (line 1)) (3.11.13)\n",
      "Requirement already satisfied: huggingface-hub<1.0.0,>=0.11.0 in c:\\users\\carol\\appdata\\local\\programs\\python\\python311\\lib\\site-packages (from datasets==2.13.1->-r requirements.txt (line 1)) (0.29.1)\n",
      "Requirement already satisfied: packaging in c:\\users\\carol\\appdata\\local\\programs\\python\\python311\\lib\\site-packages (from datasets==2.13.1->-r requirements.txt (line 1)) (22.0)\n",
      "Requirement already satisfied: pyyaml>=5.1 in c:\\users\\carol\\appdata\\roaming\\python\\python311\\site-packages (from datasets==2.13.1->-r requirements.txt (line 1)) (6.0.2)\n",
      "Requirement already satisfied: contourpy>=1.0.1 in c:\\users\\carol\\appdata\\local\\programs\\python\\python311\\lib\\site-packages (from matplotlib==3.7.1->-r requirements.txt (line 3)) (1.0.6)\n",
      "Requirement already satisfied: cycler>=0.10 in c:\\users\\carol\\appdata\\local\\programs\\python\\python311\\lib\\site-packages (from matplotlib==3.7.1->-r requirements.txt (line 3)) (0.11.0)\n",
      "Requirement already satisfied: fonttools>=4.22.0 in c:\\users\\carol\\appdata\\local\\programs\\python\\python311\\lib\\site-packages (from matplotlib==3.7.1->-r requirements.txt (line 3)) (4.38.0)\n",
      "Requirement already satisfied: kiwisolver>=1.0.1 in c:\\users\\carol\\appdata\\local\\programs\\python\\python311\\lib\\site-packages (from matplotlib==3.7.1->-r requirements.txt (line 3)) (1.4.4)\n",
      "Requirement already satisfied: pyparsing>=2.3.1 in c:\\users\\carol\\appdata\\local\\programs\\python\\python311\\lib\\site-packages (from matplotlib==3.7.1->-r requirements.txt (line 3)) (3.0.9)\n",
      "Requirement already satisfied: python-dateutil>=2.7 in c:\\users\\carol\\appdata\\local\\programs\\python\\python311\\lib\\site-packages (from matplotlib==3.7.1->-r requirements.txt (line 3)) (2.8.2)\n",
      "Requirement already satisfied: scipy>=1.5.0 in c:\\users\\carol\\appdata\\local\\programs\\python\\python311\\lib\\site-packages (from scikit_learn==1.3.0->-r requirements.txt (line 6)) (1.10.1)\n",
      "Requirement already satisfied: joblib>=1.1.1 in c:\\users\\carol\\appdata\\local\\programs\\python\\python311\\lib\\site-packages (from scikit_learn==1.3.0->-r requirements.txt (line 6)) (1.3.2)\n",
      "Requirement already satisfied: threadpoolctl>=2.0.0 in c:\\users\\carol\\appdata\\local\\programs\\python\\python311\\lib\\site-packages (from scikit_learn==1.3.0->-r requirements.txt (line 6)) (3.2.0)\n",
      "Requirement already satisfied: filelock in c:\\users\\carol\\appdata\\local\\programs\\python\\python311\\lib\\site-packages (from torch==2.0.1->-r requirements.txt (line 8)) (3.16.1)\n",
      "Requirement already satisfied: typing-extensions in c:\\users\\carol\\appdata\\roaming\\python\\python311\\site-packages (from torch==2.0.1->-r requirements.txt (line 8)) (4.12.2)\n",
      "Requirement already satisfied: sympy in c:\\users\\carol\\appdata\\local\\programs\\python\\python311\\lib\\site-packages (from torch==2.0.1->-r requirements.txt (line 8)) (1.13.1)\n",
      "Requirement already satisfied: networkx in c:\\users\\carol\\appdata\\local\\programs\\python\\python311\\lib\\site-packages (from torch==2.0.1->-r requirements.txt (line 8)) (3.3)\n",
      "Requirement already satisfied: jinja2 in c:\\users\\carol\\appdata\\local\\programs\\python\\python311\\lib\\site-packages (from torch==2.0.1->-r requirements.txt (line 8)) (3.1.4)\n",
      "Requirement already satisfied: colorama in c:\\users\\carol\\appdata\\roaming\\python\\python311\\site-packages (from tqdm==4.65.0->-r requirements.txt (line 10)) (0.4.6)\n",
      "Requirement already satisfied: aiohappyeyeballs>=2.3.0 in c:\\users\\carol\\appdata\\local\\programs\\python\\python311\\lib\\site-packages (from aiohttp->datasets==2.13.1->-r requirements.txt (line 1)) (2.4.6)\n",
      "Requirement already satisfied: aiosignal>=1.1.2 in c:\\users\\carol\\appdata\\local\\programs\\python\\python311\\lib\\site-packages (from aiohttp->datasets==2.13.1->-r requirements.txt (line 1)) (1.3.2)\n",
      "Requirement already satisfied: attrs>=17.3.0 in c:\\users\\carol\\appdata\\local\\programs\\python\\python311\\lib\\site-packages (from aiohttp->datasets==2.13.1->-r requirements.txt (line 1)) (24.2.0)\n",
      "Requirement already satisfied: frozenlist>=1.1.1 in c:\\users\\carol\\appdata\\local\\programs\\python\\python311\\lib\\site-packages (from aiohttp->datasets==2.13.1->-r requirements.txt (line 1)) (1.5.0)\n",
      "Requirement already satisfied: multidict<7.0,>=4.5 in c:\\users\\carol\\appdata\\local\\programs\\python\\python311\\lib\\site-packages (from aiohttp->datasets==2.13.1->-r requirements.txt (line 1)) (6.1.0)\n",
      "Requirement already satisfied: propcache>=0.2.0 in c:\\users\\carol\\appdata\\local\\programs\\python\\python311\\lib\\site-packages (from aiohttp->datasets==2.13.1->-r requirements.txt (line 1)) (0.3.0)\n",
      "Requirement already satisfied: yarl<2.0,>=1.17.0 in c:\\users\\carol\\appdata\\local\\programs\\python\\python311\\lib\\site-packages (from aiohttp->datasets==2.13.1->-r requirements.txt (line 1)) (1.18.3)\n",
      "Requirement already satisfied: charset-normalizer<4,>=2 in c:\\users\\carol\\appdata\\roaming\\python\\python311\\site-packages (from requests>=2.19.0->datasets==2.13.1->-r requirements.txt (line 1)) (3.4.0)\n",
      "Requirement already satisfied: idna<4,>=2.5 in c:\\users\\carol\\appdata\\roaming\\python\\python311\\site-packages (from requests>=2.19.0->datasets==2.13.1->-r requirements.txt (line 1)) (3.10)\n",
      "Requirement already satisfied: urllib3<3,>=1.21.1 in c:\\users\\carol\\appdata\\roaming\\python\\python311\\site-packages (from requests>=2.19.0->datasets==2.13.1->-r requirements.txt (line 1)) (2.2.3)\n",
      "Requirement already satisfied: certifi>=2017.4.17 in c:\\users\\carol\\appdata\\roaming\\python\\python311\\site-packages (from requests>=2.19.0->datasets==2.13.1->-r requirements.txt (line 1)) (2024.8.30)\n",
      "Requirement already satisfied: MarkupSafe>=2.0 in c:\\users\\carol\\appdata\\local\\programs\\python\\python311\\lib\\site-packages (from jinja2->torch==2.0.1->-r requirements.txt (line 8)) (2.1.5)\n",
      "Requirement already satisfied: pytz>=2020.1 in c:\\users\\carol\\appdata\\local\\programs\\python\\python311\\lib\\site-packages (from pandas->datasets==2.13.1->-r requirements.txt (line 1)) (2022.7)\n",
      "Requirement already satisfied: tzdata>=2022.1 in c:\\users\\carol\\appdata\\local\\programs\\python\\python311\\lib\\site-packages (from pandas->datasets==2.13.1->-r requirements.txt (line 1)) (2024.2)\n",
      "Requirement already satisfied: mpmath<1.4,>=1.1.0 in c:\\users\\carol\\appdata\\local\\programs\\python\\python311\\lib\\site-packages (from sympy->torch==2.0.1->-r requirements.txt (line 8)) (1.3.0)\n",
      "Using cached matplotlib-3.7.1-cp311-cp311-win_amd64.whl (7.6 MB)\n",
      "Using cached numpy-1.25.0-cp311-cp311-win_amd64.whl (15.0 MB)\n",
      "Using cached torch-2.0.1-cp311-cp311-win_amd64.whl (172.3 MB)\n",
      "Using cached torchvision-0.15.2-cp311-cp311-win_amd64.whl (1.2 MB)\n",
      "Using cached tqdm-4.65.0-py3-none-any.whl (77 kB)\n",
      "Installing collected packages: tqdm, numpy, torch, torchvision, matplotlib\n",
      "  Attempting uninstall: tqdm\n",
      "    Found existing installation: tqdm 4.67.1\n",
      "    Uninstalling tqdm-4.67.1:\n",
      "      Successfully uninstalled tqdm-4.67.1\n",
      "  Attempting uninstall: numpy\n",
      "    Found existing installation: numpy 2.2.3\n",
      "    Uninstalling numpy-2.2.3:\n",
      "      Successfully uninstalled numpy-2.2.3\n",
      "  Attempting uninstall: torch\n",
      "    Found existing installation: torch 2.6.0\n",
      "    Uninstalling torch-2.6.0:\n",
      "      Successfully uninstalled torch-2.6.0\n",
      "  Attempting uninstall: torchvision\n",
      "    Found existing installation: torchvision 0.21.0\n",
      "    Uninstalling torchvision-0.21.0:\n",
      "      Successfully uninstalled torchvision-0.21.0\n",
      "  Attempting uninstall: matplotlib\n",
      "    Found existing installation: matplotlib 3.10.1\n",
      "    Uninstalling matplotlib-3.10.1:\n",
      "      Successfully uninstalled matplotlib-3.10.1\n",
      "Successfully installed matplotlib-3.7.1 numpy-1.25.0 torch-2.0.1 torchvision-0.15.2 tqdm-4.65.0\n"
     ]
    },
    {
     "name": "stderr",
     "output_type": "stream",
     "text": [
      "ERROR: pip's dependency resolver does not currently take into account all the packages that are installed. This behaviour is the source of the following dependency conflicts.\n",
      "d2l 1.0.3 requires matplotlib==3.7.2, but you have matplotlib 3.7.1 which is incompatible.\n",
      "d2l 1.0.3 requires numpy==1.23.5, but you have numpy 1.25.0 which is incompatible.\n",
      "pypcg-toolbox 0.1b3 requires numpy>=1.25.2, but you have numpy 1.25.0 which is incompatible.\n",
      "sam-2 1.0 requires torch>=2.3.1, but you have torch 2.0.1 which is incompatible.\n",
      "sam-2 1.0 requires torchvision>=0.18.1, but you have torchvision 0.15.2 which is incompatible.\n",
      "sam-2 1.0 requires tqdm>=4.66.1, but you have tqdm 4.65.0 which is incompatible.\n"
     ]
    }
   ],
   "source": [
    "!pip install -r requirements.txt"
   ]
  },
  {
   "cell_type": "code",
   "execution_count": 7,
   "metadata": {},
   "outputs": [
    {
     "name": "stderr",
     "output_type": "stream",
     "text": [
      "Traceback (most recent call last):\n",
      "  File \"c:\\Users\\carol\\Documents\\IPCV-MASTER\\TRDP\\Code\\SalUn_study\\Classification\\main_train.py\", line 162, in <module>\n",
      "    main()\n",
      "  File \"c:\\Users\\carol\\Documents\\IPCV-MASTER\\TRDP\\Code\\SalUn_study\\Classification\\main_train.py\", line 34, in main\n",
      "    torch.cuda.set_device(int(args.gpu))\n",
      "  File \"c:\\Users\\carol\\AppData\\Local\\Programs\\Python\\Python311\\Lib\\site-packages\\torch\\cuda\\__init__.py\", line 350, in set_device\n",
      "    torch._C._cuda_setDevice(device)\n",
      "    ^^^^^^^^^^^^^^^^^^^^^^^^\n",
      "AttributeError: module 'torch._C' has no attribute '_cuda_setDevice'\n"
     ]
    }
   ],
   "source": [
    "!python main_train.py --arch resnet18 --dataset cifar10 --lr 0.1 --epochs 182 --save_dir ../My_tests/models/"
   ]
  },
  {
   "cell_type": "code",
   "execution_count": null,
   "metadata": {},
   "outputs": [],
   "source": []
  },
  {
   "cell_type": "code",
   "execution_count": null,
   "metadata": {},
   "outputs": [],
   "source": []
  }
 ],
 "metadata": {
  "kernelspec": {
   "display_name": "Python 3",
   "language": "python",
   "name": "python3"
  },
  "language_info": {
   "codemirror_mode": {
    "name": "ipython",
    "version": 3
   },
   "file_extension": ".py",
   "mimetype": "text/x-python",
   "name": "python",
   "nbconvert_exporter": "python",
   "pygments_lexer": "ipython3",
   "version": "3.11.4"
  }
 },
 "nbformat": 4,
 "nbformat_minor": 2
}
