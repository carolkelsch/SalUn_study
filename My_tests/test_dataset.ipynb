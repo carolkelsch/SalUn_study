{
 "cells": [
  {
   "cell_type": "markdown",
   "metadata": {},
   "source": [
    "Install required pacckages to work"
   ]
  },
  {
   "cell_type": "code",
   "execution_count": 1,
   "metadata": {},
   "outputs": [
    {
     "name": "stdout",
     "output_type": "stream",
     "text": [
      "Requirement already satisfied: datasets==2.13.1 in c:\\users\\carol\\appdata\\local\\programs\\python\\python311\\lib\\site-packages (from -r ../Classification/requirements.txt (line 1)) (2.13.1)\n",
      "Requirement already satisfied: lmdb==1.4.1 in c:\\users\\carol\\appdata\\local\\programs\\python\\python311\\lib\\site-packages (from -r ../Classification/requirements.txt (line 2)) (1.4.1)\n",
      "Requirement already satisfied: matplotlib==3.7.1 in c:\\users\\carol\\appdata\\local\\programs\\python\\python311\\lib\\site-packages (from -r ../Classification/requirements.txt (line 3)) (3.7.1)\n",
      "Requirement already satisfied: numpy==1.25.0 in c:\\users\\carol\\appdata\\local\\programs\\python\\python311\\lib\\site-packages (from -r ../Classification/requirements.txt (line 4)) (1.25.0)\n",
      "Requirement already satisfied: Pillow==10.0.0 in c:\\users\\carol\\appdata\\local\\programs\\python\\python311\\lib\\site-packages (from -r ../Classification/requirements.txt (line 5)) (10.0.0)\n",
      "Requirement already satisfied: scikit_learn==1.3.0 in c:\\users\\carol\\appdata\\local\\programs\\python\\python311\\lib\\site-packages (from -r ../Classification/requirements.txt (line 6)) (1.3.0)\n",
      "Requirement already satisfied: six==1.16.0 in c:\\users\\carol\\appdata\\local\\programs\\python\\python311\\lib\\site-packages (from -r ../Classification/requirements.txt (line 7)) (1.16.0)\n",
      "Requirement already satisfied: torch==2.0.1 in c:\\users\\carol\\appdata\\local\\programs\\python\\python311\\lib\\site-packages (from -r ../Classification/requirements.txt (line 8)) (2.0.1)\n",
      "Requirement already satisfied: torchvision==0.15.2 in c:\\users\\carol\\appdata\\local\\programs\\python\\python311\\lib\\site-packages (from -r ../Classification/requirements.txt (line 9)) (0.15.2)\n",
      "Requirement already satisfied: tqdm==4.65.0 in c:\\users\\carol\\appdata\\local\\programs\\python\\python311\\lib\\site-packages (from -r ../Classification/requirements.txt (line 10)) (4.65.0)\n",
      "Requirement already satisfied: pyarrow>=8.0.0 in c:\\users\\carol\\appdata\\local\\programs\\python\\python311\\lib\\site-packages (from datasets==2.13.1->-r ../Classification/requirements.txt (line 1)) (19.0.1)\n",
      "Requirement already satisfied: dill<0.3.7,>=0.3.0 in c:\\users\\carol\\appdata\\local\\programs\\python\\python311\\lib\\site-packages (from datasets==2.13.1->-r ../Classification/requirements.txt (line 1)) (0.3.6)\n",
      "Requirement already satisfied: pandas in c:\\users\\carol\\appdata\\local\\programs\\python\\python311\\lib\\site-packages (from datasets==2.13.1->-r ../Classification/requirements.txt (line 1)) (2.0.3)\n",
      "Requirement already satisfied: requests>=2.19.0 in c:\\users\\carol\\appdata\\local\\programs\\python\\python311\\lib\\site-packages (from datasets==2.13.1->-r ../Classification/requirements.txt (line 1)) (2.31.0)\n",
      "Requirement already satisfied: xxhash in c:\\users\\carol\\appdata\\local\\programs\\python\\python311\\lib\\site-packages (from datasets==2.13.1->-r ../Classification/requirements.txt (line 1)) (3.5.0)\n",
      "Requirement already satisfied: multiprocess in c:\\users\\carol\\appdata\\local\\programs\\python\\python311\\lib\\site-packages (from datasets==2.13.1->-r ../Classification/requirements.txt (line 1)) (0.70.14)\n",
      "Requirement already satisfied: fsspec>=2021.11.1 in c:\\users\\carol\\appdata\\local\\programs\\python\\python311\\lib\\site-packages (from fsspec[http]>=2021.11.1->datasets==2.13.1->-r ../Classification/requirements.txt (line 1)) (2024.9.0)\n",
      "Requirement already satisfied: aiohttp in c:\\users\\carol\\appdata\\local\\programs\\python\\python311\\lib\\site-packages (from datasets==2.13.1->-r ../Classification/requirements.txt (line 1)) (3.11.13)\n",
      "Requirement already satisfied: huggingface-hub<1.0.0,>=0.11.0 in c:\\users\\carol\\appdata\\local\\programs\\python\\python311\\lib\\site-packages (from datasets==2.13.1->-r ../Classification/requirements.txt (line 1)) (0.29.1)\n",
      "Requirement already satisfied: packaging in c:\\users\\carol\\appdata\\local\\programs\\python\\python311\\lib\\site-packages (from datasets==2.13.1->-r ../Classification/requirements.txt (line 1)) (22.0)\n",
      "Requirement already satisfied: pyyaml>=5.1 in c:\\users\\carol\\appdata\\roaming\\python\\python311\\site-packages (from datasets==2.13.1->-r ../Classification/requirements.txt (line 1)) (6.0.2)\n",
      "Requirement already satisfied: contourpy>=1.0.1 in c:\\users\\carol\\appdata\\local\\programs\\python\\python311\\lib\\site-packages (from matplotlib==3.7.1->-r ../Classification/requirements.txt (line 3)) (1.0.6)\n",
      "Requirement already satisfied: cycler>=0.10 in c:\\users\\carol\\appdata\\local\\programs\\python\\python311\\lib\\site-packages (from matplotlib==3.7.1->-r ../Classification/requirements.txt (line 3)) (0.11.0)\n",
      "Requirement already satisfied: fonttools>=4.22.0 in c:\\users\\carol\\appdata\\local\\programs\\python\\python311\\lib\\site-packages (from matplotlib==3.7.1->-r ../Classification/requirements.txt (line 3)) (4.38.0)\n",
      "Requirement already satisfied: kiwisolver>=1.0.1 in c:\\users\\carol\\appdata\\local\\programs\\python\\python311\\lib\\site-packages (from matplotlib==3.7.1->-r ../Classification/requirements.txt (line 3)) (1.4.4)\n",
      "Requirement already satisfied: pyparsing>=2.3.1 in c:\\users\\carol\\appdata\\local\\programs\\python\\python311\\lib\\site-packages (from matplotlib==3.7.1->-r ../Classification/requirements.txt (line 3)) (3.0.9)\n",
      "Requirement already satisfied: python-dateutil>=2.7 in c:\\users\\carol\\appdata\\local\\programs\\python\\python311\\lib\\site-packages (from matplotlib==3.7.1->-r ../Classification/requirements.txt (line 3)) (2.8.2)\n",
      "Requirement already satisfied: scipy>=1.5.0 in c:\\users\\carol\\appdata\\local\\programs\\python\\python311\\lib\\site-packages (from scikit_learn==1.3.0->-r ../Classification/requirements.txt (line 6)) (1.10.1)\n",
      "Requirement already satisfied: joblib>=1.1.1 in c:\\users\\carol\\appdata\\local\\programs\\python\\python311\\lib\\site-packages (from scikit_learn==1.3.0->-r ../Classification/requirements.txt (line 6)) (1.3.2)\n",
      "Requirement already satisfied: threadpoolctl>=2.0.0 in c:\\users\\carol\\appdata\\local\\programs\\python\\python311\\lib\\site-packages (from scikit_learn==1.3.0->-r ../Classification/requirements.txt (line 6)) (3.2.0)\n",
      "Requirement already satisfied: filelock in c:\\users\\carol\\appdata\\local\\programs\\python\\python311\\lib\\site-packages (from torch==2.0.1->-r ../Classification/requirements.txt (line 8)) (3.16.1)\n",
      "Requirement already satisfied: typing-extensions in c:\\users\\carol\\appdata\\roaming\\python\\python311\\site-packages (from torch==2.0.1->-r ../Classification/requirements.txt (line 8)) (4.12.2)\n",
      "Requirement already satisfied: sympy in c:\\users\\carol\\appdata\\local\\programs\\python\\python311\\lib\\site-packages (from torch==2.0.1->-r ../Classification/requirements.txt (line 8)) (1.13.1)\n",
      "Requirement already satisfied: networkx in c:\\users\\carol\\appdata\\local\\programs\\python\\python311\\lib\\site-packages (from torch==2.0.1->-r ../Classification/requirements.txt (line 8)) (3.3)\n",
      "Requirement already satisfied: jinja2 in c:\\users\\carol\\appdata\\local\\programs\\python\\python311\\lib\\site-packages (from torch==2.0.1->-r ../Classification/requirements.txt (line 8)) (3.1.4)\n",
      "Requirement already satisfied: colorama in c:\\users\\carol\\appdata\\roaming\\python\\python311\\site-packages (from tqdm==4.65.0->-r ../Classification/requirements.txt (line 10)) (0.4.6)\n",
      "Requirement already satisfied: aiohappyeyeballs>=2.3.0 in c:\\users\\carol\\appdata\\local\\programs\\python\\python311\\lib\\site-packages (from aiohttp->datasets==2.13.1->-r ../Classification/requirements.txt (line 1)) (2.4.6)\n",
      "Requirement already satisfied: aiosignal>=1.1.2 in c:\\users\\carol\\appdata\\local\\programs\\python\\python311\\lib\\site-packages (from aiohttp->datasets==2.13.1->-r ../Classification/requirements.txt (line 1)) (1.3.2)\n",
      "Requirement already satisfied: attrs>=17.3.0 in c:\\users\\carol\\appdata\\local\\programs\\python\\python311\\lib\\site-packages (from aiohttp->datasets==2.13.1->-r ../Classification/requirements.txt (line 1)) (24.2.0)\n",
      "Requirement already satisfied: frozenlist>=1.1.1 in c:\\users\\carol\\appdata\\local\\programs\\python\\python311\\lib\\site-packages (from aiohttp->datasets==2.13.1->-r ../Classification/requirements.txt (line 1)) (1.5.0)\n",
      "Requirement already satisfied: multidict<7.0,>=4.5 in c:\\users\\carol\\appdata\\local\\programs\\python\\python311\\lib\\site-packages (from aiohttp->datasets==2.13.1->-r ../Classification/requirements.txt (line 1)) (6.1.0)\n",
      "Requirement already satisfied: propcache>=0.2.0 in c:\\users\\carol\\appdata\\local\\programs\\python\\python311\\lib\\site-packages (from aiohttp->datasets==2.13.1->-r ../Classification/requirements.txt (line 1)) (0.3.0)\n",
      "Requirement already satisfied: yarl<2.0,>=1.17.0 in c:\\users\\carol\\appdata\\local\\programs\\python\\python311\\lib\\site-packages (from aiohttp->datasets==2.13.1->-r ../Classification/requirements.txt (line 1)) (1.18.3)\n",
      "Requirement already satisfied: charset-normalizer<4,>=2 in c:\\users\\carol\\appdata\\roaming\\python\\python311\\site-packages (from requests>=2.19.0->datasets==2.13.1->-r ../Classification/requirements.txt (line 1)) (3.4.0)\n",
      "Requirement already satisfied: idna<4,>=2.5 in c:\\users\\carol\\appdata\\roaming\\python\\python311\\site-packages (from requests>=2.19.0->datasets==2.13.1->-r ../Classification/requirements.txt (line 1)) (3.10)\n",
      "Requirement already satisfied: urllib3<3,>=1.21.1 in c:\\users\\carol\\appdata\\roaming\\python\\python311\\site-packages (from requests>=2.19.0->datasets==2.13.1->-r ../Classification/requirements.txt (line 1)) (2.2.3)\n",
      "Requirement already satisfied: certifi>=2017.4.17 in c:\\users\\carol\\appdata\\roaming\\python\\python311\\site-packages (from requests>=2.19.0->datasets==2.13.1->-r ../Classification/requirements.txt (line 1)) (2024.8.30)\n",
      "Requirement already satisfied: MarkupSafe>=2.0 in c:\\users\\carol\\appdata\\local\\programs\\python\\python311\\lib\\site-packages (from jinja2->torch==2.0.1->-r ../Classification/requirements.txt (line 8)) (2.1.5)\n",
      "Requirement already satisfied: pytz>=2020.1 in c:\\users\\carol\\appdata\\local\\programs\\python\\python311\\lib\\site-packages (from pandas->datasets==2.13.1->-r ../Classification/requirements.txt (line 1)) (2022.7)\n",
      "Requirement already satisfied: tzdata>=2022.1 in c:\\users\\carol\\appdata\\local\\programs\\python\\python311\\lib\\site-packages (from pandas->datasets==2.13.1->-r ../Classification/requirements.txt (line 1)) (2024.2)\n",
      "Requirement already satisfied: mpmath<1.4,>=1.1.0 in c:\\users\\carol\\appdata\\local\\programs\\python\\python311\\lib\\site-packages (from sympy->torch==2.0.1->-r ../Classification/requirements.txt (line 8)) (1.3.0)\n"
     ]
    }
   ],
   "source": [
    "!pip install -r ../Classification/requirements.txt"
   ]
  },
  {
   "cell_type": "code",
   "execution_count": 2,
   "metadata": {},
   "outputs": [],
   "source": [
    "import sys\n",
    "import os\n",
    "sys.modules.pop('dataset_split', None)  # Replace with your module name"
   ]
  },
  {
   "cell_type": "code",
   "execution_count": 4,
   "metadata": {},
   "outputs": [
    {
     "name": "stdout",
     "output_type": "stream",
     "text": [
      "c:\\Users\\carol\\Documents\\IPCV-MASTER\\TRDP\\SalUn_study\\My_tests\n"
     ]
    }
   ],
   "source": [
    "current_path = os.getcwd()\n",
    "print(current_path)"
   ]
  },
  {
   "cell_type": "code",
   "execution_count": 5,
   "metadata": {},
   "outputs": [
    {
     "name": "stdout",
     "output_type": "stream",
     "text": [
      "Downloading https://www.cs.toronto.edu/~kriz/cifar-10-python.tar.gz to c:\\Users\\carol\\Documents\\IPCV-MASTER\\TRDP\\SalUn_study\\My_tests/datasets/cifar-10-python.tar.gz\n"
     ]
    },
    {
     "name": "stderr",
     "output_type": "stream",
     "text": [
      "100%|██████████| 170498071/170498071 [03:11<00:00, 889985.35it/s] \n"
     ]
    },
    {
     "name": "stdout",
     "output_type": "stream",
     "text": [
      "Extracting c:\\Users\\carol\\Documents\\IPCV-MASTER\\TRDP\\SalUn_study\\My_tests/datasets/cifar-10-python.tar.gz to c:\\Users\\carol\\Documents\\IPCV-MASTER\\TRDP\\SalUn_study\\My_tests/datasets/\n",
      "Files already downloaded and verified\n",
      "Classes: ['airplane', 'automobile', 'bird', 'cat', 'deer', 'dog', 'frog', 'horse', 'ship', 'truck']\n"
     ]
    }
   ],
   "source": [
    "from dataset_split import *\n",
    "\n",
    "root_dataset = current_path + '/datasets/'\n",
    "ds = UnlearnDatasetSplit(root_dataset, \"cifar10\")"
   ]
  },
  {
   "cell_type": "code",
   "execution_count": 199,
   "metadata": {},
   "outputs": [
    {
     "name": "stdout",
     "output_type": "stream",
     "text": [
      "['cat', 'frog']\n",
      "is list\n",
      "is string list\n",
      "class is [3 6]\n",
      "{'Train': Dataset CIFAR10\n",
      "    Number of datapoints: 50000\n",
      "    Root location: c:\\Users\\carol\\Documents\\IPCV-MASTER\\TRDP\\Code\\SalUn_study\\My_tests/datasets/\n",
      "    Split: Train\n",
      "    StandardTransform\n",
      "Transform: Compose(\n",
      "               ToTensor()\n",
      "               Normalize(mean=(0.485, 0.456, 0.406), std=(0.229, 0.224, 0.225))\n",
      "           ), 'Test': Dataset CIFAR10\n",
      "    Number of datapoints: 10000\n",
      "    Root location: c:\\Users\\carol\\Documents\\IPCV-MASTER\\TRDP\\Code\\SalUn_study\\My_tests/datasets/\n",
      "    Split: Test\n",
      "    StandardTransform\n",
      "Transform: Compose(\n",
      "               ToTensor()\n",
      "               Normalize(mean=(0.485, 0.456, 0.406), std=(0.229, 0.224, 0.225))\n",
      "           ), 'Train_retain': <torch.utils.data.dataset.Subset object at 0x00000199007EF010>, 'Train_forget': <torch.utils.data.dataset.Subset object at 0x000001990075DA50>, 'Test_retain': <torch.utils.data.dataset.Subset object at 0x000001990075C990>, 'Test_forget': <torch.utils.data.dataset.Subset object at 0x000001990024D990>}\n"
     ]
    }
   ],
   "source": [
    "splitted = ds.split_dataset(\"class\", True, forget=['cat', 'frog'])\n",
    "print(splitted)"
   ]
  },
  {
   "cell_type": "code",
   "execution_count": 6,
   "metadata": {},
   "outputs": [
    {
     "name": "stdout",
     "output_type": "stream",
     "text": [
      "['Test.pkl', 'Test_forget.pkl', 'Test_retain.pkl', 'Train.pkl', 'Train_forget.pkl', 'Train_retain.pkl']\n"
     ]
    }
   ],
   "source": [
    "splitted = ds.load_dataset()"
   ]
  },
  {
   "cell_type": "code",
   "execution_count": 7,
   "metadata": {},
   "outputs": [],
   "source": [
    "tf = ds.get_loader(\"Train_forget\", batchsize=64)\n"
   ]
  },
  {
   "cell_type": "code",
   "execution_count": 8,
   "metadata": {},
   "outputs": [
    {
     "name": "stdout",
     "output_type": "stream",
     "text": [
      "<torch.utils.data.dataloader.DataLoader object at 0x0000025DC73F5650>\n"
     ]
    }
   ],
   "source": [
    "print(tf)"
   ]
  },
  {
   "cell_type": "code",
   "execution_count": 191,
   "metadata": {},
   "outputs": [
    {
     "name": "stdout",
     "output_type": "stream",
     "text": [
      "['c:\\\\Users\\\\carol\\\\AppData\\\\Local\\\\Programs\\\\Python\\\\Python311\\\\python311.zip', 'c:\\\\Users\\\\carol\\\\AppData\\\\Local\\\\Programs\\\\Python\\\\Python311\\\\DLLs', 'c:\\\\Users\\\\carol\\\\AppData\\\\Local\\\\Programs\\\\Python\\\\Python311\\\\Lib', 'c:\\\\Users\\\\carol\\\\AppData\\\\Local\\\\Programs\\\\Python\\\\Python311', '', 'C:\\\\Users\\\\carol\\\\AppData\\\\Roaming\\\\Python\\\\Python311\\\\site-packages', 'C:\\\\Users\\\\carol\\\\AppData\\\\Roaming\\\\Python\\\\Python311\\\\site-packages\\\\win32', 'C:\\\\Users\\\\carol\\\\AppData\\\\Roaming\\\\Python\\\\Python311\\\\site-packages\\\\win32\\\\lib', 'C:\\\\Users\\\\carol\\\\AppData\\\\Roaming\\\\Python\\\\Python311\\\\site-packages\\\\Pythonwin', 'c:\\\\Users\\\\carol\\\\AppData\\\\Local\\\\Programs\\\\Python\\\\Python311\\\\Lib\\\\site-packages', '/Classification/', '/Classification', '/Classification', '/Classification/', '.\\\\Classification', 'c:\\\\Users\\\\carol\\\\Documents\\\\IPCV-MASTER\\\\TRDP\\\\Code\\\\SalUn_study\\\\My_tests/Classification', 'c:\\\\Users\\\\carol\\\\Documents\\\\IPCV-MASTER\\\\TRDP\\\\Code\\\\SalUn_study\\\\My_tests\\\\Classification', 'c:\\\\Users\\\\carol\\\\Documents\\\\IPCV-MASTER\\\\TRDP\\\\Code\\\\SalUn_study\\\\My_tests\\\\Classification', 'c:/Users/carol/Documents/IPCV-MASTER/TRDP/Code/SalUn_study/My_tests/Classification', 'c:/Users/carol/Documents/IPCV-MASTER/TRDP/Code/SalUn_study/Classification']\n"
     ]
    }
   ],
   "source": [
    "sys.path.append(\"c:/Users/carol/Documents/IPCV-MASTER/TRDP/Code/SalUn_study/Classification\")\n",
    "print(sys.path)"
   ]
  },
  {
   "cell_type": "code",
   "execution_count": null,
   "metadata": {},
   "outputs": [
    {
     "name": "stderr",
     "output_type": "stream",
     "text": [
      "usage: ipykernel_launcher.py [-h] [--data DATA] [--dataset DATASET]\n",
      "                             [--input_size INPUT_SIZE] [--data_dir DATA_DIR]\n",
      "                             [--num_workers NUM_WORKERS]\n",
      "                             [--num_classes NUM_CLASSES] [--arch ARCH]\n",
      "                             [--imagenet_arch] [--train_y_file TRAIN_Y_FILE]\n",
      "                             [--val_y_file VAL_Y_FILE] [--seed SEED]\n",
      "                             [--train_seed TRAIN_SEED] [--gpu GPU]\n",
      "                             [--workers WORKERS] [--resume]\n",
      "                             [--checkpoint CHECKPOINT] [--save_dir SAVE_DIR]\n",
      "                             [--model_path MODEL_PATH]\n",
      "                             [--batch_size BATCH_SIZE] [--lr LR]\n",
      "                             [--momentum MOMENTUM]\n",
      "                             [--weight_decay WEIGHT_DECAY] [--epochs EPOCHS]\n",
      "                             [--warmup WARMUP] [--print_freq PRINT_FREQ]\n",
      "                             [--decreasing_lr DECREASING_LR] [--no-aug]\n",
      "                             [--no-l1-epochs NO_L1_EPOCHS] [--prune PRUNE]\n",
      "                             [--pruning_times PRUNING_TIMES] [--rate RATE]\n",
      "                             [--prune_type PRUNE_TYPE] [--random_prune]\n",
      "                             [--rewind_epoch REWIND_EPOCH]\n",
      "                             [--rewind_pth REWIND_PTH] [--unlearn UNLEARN]\n",
      "                             [--unlearn_lr UNLEARN_LR]\n",
      "                             [--unlearn_epochs UNLEARN_EPOCHS]\n",
      "                             [--num_indexes_to_replace NUM_INDEXES_TO_REPLACE]\n",
      "                             [--class_to_replace CLASS_TO_REPLACE]\n",
      "                             [--indexes_to_replace INDEXES_TO_REPLACE]\n",
      "                             [--alpha ALPHA] [--mask_path MASK_PATH]\n",
      "ipykernel_launcher.py: error: unrecognized arguments: --f=c:\\Users\\carol\\AppData\\Roaming\\jupyter\\runtime\\kernel-v32a3a688befcbbe374cbd93e9b8917d61b1f85b9b.json\n"
     ]
    },
    {
     "ename": "SystemExit",
     "evalue": "2",
     "output_type": "error",
     "traceback": [
      "An exception has occurred, use %tb to see the full traceback.\n",
      "\u001b[1;31mSystemExit\u001b[0m\u001b[1;31m:\u001b[0m 2\n"
     ]
    },
    {
     "name": "stderr",
     "output_type": "stream",
     "text": [
      "C:\\Users\\carol\\AppData\\Roaming\\Python\\Python311\\site-packages\\IPython\\core\\interactiveshell.py:3585: UserWarning: To exit: use 'exit', 'quit', or Ctrl-D.\n",
      "  warn(\"To exit: use 'exit', 'quit', or Ctrl-D.\", stacklevel=1)\n"
     ]
    }
   ],
   "source": [
    "import arg_parser as ap \n",
    "\n",
    "from generate_mask import generate_mask_f\n",
    "args = generate_mask_f()"
   ]
  },
  {
   "cell_type": "code",
   "execution_count": 222,
   "metadata": {},
   "outputs": [
    {
     "name": "stdout",
     "output_type": "stream",
     "text": [
      "['c:', 'Users', 'carol', 'Documents', 'IPCV-MASTER', 'TRDP', 'Code', 'SalUn_study']\n",
      "c:/Users/carol/Documents/IPCV-MASTER/TRDP/Code/SalUn_studyMy_tests/\n"
     ]
    }
   ],
   "source": [
    "proj_path = os.getcwd().split('\\\\')[:-1]\n",
    "print(proj_path)\n",
    "print('/'.join(proj_path) + 'My_tests/')"
   ]
  },
  {
   "cell_type": "code",
   "execution_count": 169,
   "metadata": {},
   "outputs": [
    {
     "name": "stdout",
     "output_type": "stream",
     "text": [
      "(tensor([[[ 0.5193,  0.0398, -0.3198,  ..., -0.5596, -0.6281, -0.7650],\n",
      "         [ 0.2796,  0.3652,  0.0227,  ..., -0.4739, -0.7993, -0.9020],\n",
      "         [ 0.2796,  0.2624, -0.1486,  ..., -0.7650, -0.9534, -0.9705],\n",
      "         ...,\n",
      "         [ 0.8789,  0.5536,  0.5193,  ..., -1.3987, -1.0733, -0.5253],\n",
      "         [ 0.7077,  0.5536,  0.6049,  ..., -0.3541, -0.0116,  0.1254],\n",
      "         [ 0.6734,  0.5878,  0.6734,  ...,  0.3309,  0.3309,  0.3309]],\n",
      "\n",
      "        [[ 1.0630,  0.3627, -0.2150,  ..., -0.3725, -0.4601, -0.6176],\n",
      "         [ 0.7654,  0.6429,  0.1527,  ..., -0.3025, -0.6352, -0.7577],\n",
      "         [ 0.6779,  0.5203, -0.0224,  ..., -0.6001, -0.8102, -0.8277],\n",
      "         ...,\n",
      "         [ 0.8880,  0.6604,  0.7654,  ..., -1.4405, -1.1078, -0.5826],\n",
      "         [ 0.6604,  0.6254,  0.7829,  ..., -0.4076, -0.0399,  0.0826],\n",
      "         [ 0.5553,  0.5553,  0.6954,  ...,  0.2927,  0.3102,  0.2927]],\n",
      "\n",
      "        [[ 1.4548,  0.5659, -0.1487,  ..., -0.5670, -0.5670, -0.5844],\n",
      "         [ 1.1411,  0.8797,  0.2522,  ..., -0.4450, -0.7238, -0.7413],\n",
      "         [ 1.0539,  0.7925,  0.1476,  ..., -0.6890, -0.8458, -0.8458],\n",
      "         ...,\n",
      "         [ 1.0888,  0.9842,  1.1585,  ..., -1.1770, -0.8110, -0.2184],\n",
      "         [ 0.4265,  0.4614,  0.6705,  ..., -0.1312,  0.2871,  0.4788],\n",
      "         [ 0.2871,  0.3219,  0.5136,  ...,  0.6182,  0.6705,  0.7054]]]), 9)\n"
     ]
    }
   ],
   "source": [
    "print(splitted['Train_retain'][0])"
   ]
  },
  {
   "cell_type": "code",
   "execution_count": 170,
   "metadata": {},
   "outputs": [
    {
     "name": "stdout",
     "output_type": "stream",
     "text": [
      "(tensor([[[-1.1075, -1.3815, -1.2617,  ...,  0.5878,  0.4851,  0.4166],\n",
      "         [-1.8439, -2.1179, -1.8097,  ..., -0.0116, -0.0801, -0.0287],\n",
      "         [-1.6898, -1.8439, -1.2788,  ..., -0.0972, -0.0629, -0.2513],\n",
      "         ...,\n",
      "         [ 1.4440,  1.3242,  1.2728,  ...,  0.6221, -1.1589, -1.2103],\n",
      "         [ 0.9646,  0.8447,  1.0673,  ...,  1.0331, -0.4568, -0.6965],\n",
      "         [ 0.9132,  0.7591,  0.9474,  ...,  1.5810,  0.4679, -0.0116]],\n",
      "\n",
      "        [[-0.9503, -1.2304, -1.1954,  ...,  0.2752,  0.1527,  0.1352],\n",
      "         [-1.6856, -2.0357, -1.8957,  ..., -0.4951, -0.5826, -0.5126],\n",
      "         [-1.6155, -1.9132, -1.5630,  ..., -0.5651, -0.5651, -0.7577],\n",
      "         ...,\n",
      "         [ 0.9405,  0.6429,  0.7829,  ...,  0.2927, -1.4930, -1.4405],\n",
      "         [ 0.3978,  0.1176,  0.4853,  ...,  0.5553, -0.9503, -1.1078],\n",
      "         [ 0.4853,  0.2227,  0.4503,  ...,  1.1856,  0.0301, -0.4251]],\n",
      "\n",
      "        [[-0.7064, -1.0201, -1.0550,  ...,  0.0779, -0.0267, -0.0092],\n",
      "         [-1.4559, -1.8044, -1.8044,  ..., -0.8458, -0.9330, -0.8110],\n",
      "         [-1.4384, -1.8044, -1.6650,  ..., -0.9330, -0.9330, -1.0724],\n",
      "         ...,\n",
      "         [-0.1312, -1.2119, -1.3513,  ..., -0.5844, -1.6824, -1.4559],\n",
      "         [-0.1312, -1.0724, -1.2816,  ..., -0.1661, -1.2119, -1.2119],\n",
      "         [ 0.2173, -0.1661, -0.2881,  ...,  0.6356, -0.3404, -0.5495]]]), 6)\n"
     ]
    }
   ],
   "source": [
    "print(splitted['Train_forget'][0])"
   ]
  },
  {
   "cell_type": "code",
   "execution_count": 134,
   "metadata": {},
   "outputs": [
    {
     "name": "stdout",
     "output_type": "stream",
     "text": [
      "(tensor([[[-1.1075, -1.3815, -1.2617,  ...,  0.5878,  0.4851,  0.4166],\n",
      "         [-1.8439, -2.1179, -1.8097,  ..., -0.0116, -0.0801, -0.0287],\n",
      "         [-1.6898, -1.8439, -1.2788,  ..., -0.0972, -0.0629, -0.2513],\n",
      "         ...,\n",
      "         [ 1.4440,  1.3242,  1.2728,  ...,  0.6221, -1.1589, -1.2103],\n",
      "         [ 0.9646,  0.8447,  1.0673,  ...,  1.0331, -0.4568, -0.6965],\n",
      "         [ 0.9132,  0.7591,  0.9474,  ...,  1.5810,  0.4679, -0.0116]],\n",
      "\n",
      "        [[-0.9503, -1.2304, -1.1954,  ...,  0.2752,  0.1527,  0.1352],\n",
      "         [-1.6856, -2.0357, -1.8957,  ..., -0.4951, -0.5826, -0.5126],\n",
      "         [-1.6155, -1.9132, -1.5630,  ..., -0.5651, -0.5651, -0.7577],\n",
      "         ...,\n",
      "         [ 0.9405,  0.6429,  0.7829,  ...,  0.2927, -1.4930, -1.4405],\n",
      "         [ 0.3978,  0.1176,  0.4853,  ...,  0.5553, -0.9503, -1.1078],\n",
      "         [ 0.4853,  0.2227,  0.4503,  ...,  1.1856,  0.0301, -0.4251]],\n",
      "\n",
      "        [[-0.7064, -1.0201, -1.0550,  ...,  0.0779, -0.0267, -0.0092],\n",
      "         [-1.4559, -1.8044, -1.8044,  ..., -0.8458, -0.9330, -0.8110],\n",
      "         [-1.4384, -1.8044, -1.6650,  ..., -0.9330, -0.9330, -1.0724],\n",
      "         ...,\n",
      "         [-0.1312, -1.2119, -1.3513,  ..., -0.5844, -1.6824, -1.4559],\n",
      "         [-0.1312, -1.0724, -1.2816,  ..., -0.1661, -1.2119, -1.2119],\n",
      "         [ 0.2173, -0.1661, -0.2881,  ...,  0.6356, -0.3404, -0.5495]]]), 6)\n"
     ]
    }
   ],
   "source": [
    "print(splitted['Train'][0])"
   ]
  }
 ],
 "metadata": {
  "kernelspec": {
   "display_name": "Python 3",
   "language": "python",
   "name": "python3"
  },
  "language_info": {
   "codemirror_mode": {
    "name": "ipython",
    "version": 3
   },
   "file_extension": ".py",
   "mimetype": "text/x-python",
   "name": "python",
   "nbconvert_exporter": "python",
   "pygments_lexer": "ipython3",
   "version": "3.11.4"
  }
 },
 "nbformat": 4,
 "nbformat_minor": 2
}
